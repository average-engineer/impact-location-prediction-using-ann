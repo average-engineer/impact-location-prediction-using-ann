{
 "cells": [
  {
   "cell_type": "code",
   "execution_count": 1,
   "metadata": {},
   "outputs": [],
   "source": [
    "import numpy as np\n",
    "import pandas as pd"
   ]
  },
  {
   "cell_type": "code",
   "execution_count": 2,
   "metadata": {},
   "outputs": [
    {
     "data": {
      "text/plain": [
       "(988, 1000, 4)"
      ]
     },
     "execution_count": 2,
     "metadata": {},
     "output_type": "execute_result"
    }
   ],
   "source": [
    "rnndata = np.loadtxt('/home/raj/Documents/CIE/git/project-b-cie/saved_variables/Sxy.txt')\n",
    "Sxy_val = rnndata.reshape(rnndata.shape[0],rnndata.shape[1] // 4 , 4)\n",
    "labels = np.loadtxt('/home/raj/Documents/CIE/git/project-b-cie/saved_variables/Oxy.txt')\n",
    "labels.shape\n",
    "Sxy_val.shape"
   ]
  },
  {
   "cell_type": "code",
   "execution_count": 20,
   "metadata": {},
   "outputs": [],
   "source": [
    "df1=pd.DataFrame(columns=['S1','S2','S3','S4','X','Y'])\n",
    "s5=[]\n",
    "s6=[]\n",
    "for i in range(Sxy_val.shape[0]):\n",
    "    a=''\n",
    "    b=''\n",
    "    c=''\n",
    "    d=''\n",
    "    s5.append(labels[i,0])\n",
    "    s6.append(labels[i,1])\n",
    "    for j in range(Sxy_val.shape[1]):\n",
    "        a=a+' '+str(Sxy_val[i,j,0])\n",
    "        b=b+' '+str(Sxy_val[i,j,1])\n",
    "        c=c+' '+str(Sxy_val[i,j,2])\n",
    "        d=d+' '+str(Sxy_val[i,j,3])\n",
    "    df1.at[i,'S1']=a\n",
    "    df1.at[i,'S2']=b    \n",
    "    df1.at[i,'S3']=c    \n",
    "    df1.at[i,'S4']=d \n",
    "df1['X']=s5\n",
    "df1['Y']=s6"
   ]
  },
  {
   "cell_type": "code",
   "execution_count": 22,
   "metadata": {},
   "outputs": [],
   "source": [
    "df1.to_csv('rnn.csv')"
   ]
  }
 ],
 "metadata": {
  "kernelspec": {
   "display_name": "Python 3 (ipykernel)",
   "language": "python",
   "name": "python3"
  },
  "language_info": {
   "codemirror_mode": {
    "name": "ipython",
    "version": 3
   },
   "file_extension": ".py",
   "mimetype": "text/x-python",
   "name": "python",
   "nbconvert_exporter": "python",
   "pygments_lexer": "ipython3",
   "version": "3.8.12"
  }
 },
 "nbformat": 4,
 "nbformat_minor": 4
}
